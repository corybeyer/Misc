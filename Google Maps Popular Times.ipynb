{
 "cells": [
  {
   "cell_type": "code",
   "execution_count": 1,
   "id": "applicable-statement",
   "metadata": {},
   "outputs": [],
   "source": [
    "from selenium import webdriver\n",
    "from selenium.webdriver.common.by import By\n",
    "from selenium.webdriver.support.ui import WebDriverWait\n",
    "from selenium.webdriver.support import expected_conditions as EC\n",
    "from selenium.webdriver.chrome.options import Options\n",
    "from selenium.webdriver.common.action_chains import ActionChains\n",
    "import time as t\n",
    "import pandas as pd\n",
    "import numpy as np\n",
    "\n",
    "PATH = \"C:\\Program Files (x86)\\chromedriver.exe\"\n",
    "driver = webdriver.Chrome(PATH)"
   ]
  },
  {
   "cell_type": "code",
   "execution_count": 2,
   "id": "discrete-equivalent",
   "metadata": {},
   "outputs": [],
   "source": [
    "chrome_options = webdriver.ChromeOptions()\n",
    "chrome_options.add_argument('--no-sandbox')\n"
   ]
  },
  {
   "cell_type": "code",
   "execution_count": 3,
   "id": "visible-stanley",
   "metadata": {},
   "outputs": [],
   "source": [
    "space ={\n",
    "    'Target':'https://www.google.com/maps/place/Target/@29.4665153,-95.0892181,16z/data=!3m1!5s0x864082f152505dfb:0xe8c76fea334be8b0!4m5!3m4!1s0x864082f409ff578f:0x83a6af94e6455ffa!8m2!3d29.4659287!4d-95.0847602',\n",
    "    'Walmart':'https://www.google.com/maps/place/Walmart+Supercenter/@29.4648756,-95.0905199,16.17z/data=!3m1!5s0x864082f040666835:0xb22ccd0f63cd87a0!4m5!3m4!1s0x0:0x5b37cc8bdbb3756b!8m2!3d29.4699196!4d-95.0897907',\n",
    "    'HEB':'https://www.google.com/maps/place/H-E-B/@29.4648756,-95.0905199,16.17z/data=!4m5!3m4!1s0x0:0x5eb9cba73f62e4e!8m2!3d29.4663491!4d-95.0941868',\n",
    "    'Best_Buy':'https://www.google.com/maps/place/Best+Buy/@29.4727521,-95.0932566,16.46z/data=!3m1!5s0x864082e4c0637ee5:0xa1d65d6b862e9b0b!4m5!3m4!1s0x864082e4c0637ee5:0x2969ac6c21a26400!8m2!3d29.473014!4d-95.094999',\n",
    "    'Cabelas': \"https://www.google.com/maps/place/Cabela's/@29.4786085,-95.0988381,15.87z/data=!4m5!3m4!1s0x0:0x88a8f885ffa0e6c0!8m2!3d29.474856!4d-95.0999013\",\n",
    "    'Kroger_West':'https://www.google.com/maps/place/Kroger+Marketplace/@29.4866138,-95.1036584,15.87z/data=!4m5!3m4!1s0x0:0x670f08408569f81f!8m2!3d29.4883354!4d-95.1136851',\n",
    "    'Jumping_World':'https://www.google.com/maps/place/Jumping+World/@29.5057135,-95.1021939,15.29z/data=!4m5!3m4!1s0x0:0x8ffc5da59de4f378!8m2!3d29.5042711!4d-95.113087',\n",
    "    'LA_Fitness': 'https://www.google.com/maps/place/LA+Fitness/@29.4973173,-95.0653038,15.58z/data=!4m5!3m4!1s0x864082af53bff3d5:0x604f39f1a082ac5f!8m2!3d29.4966748!4d-95.0655609',\n",
    "    'Kroger_East': 'https://www.google.com/maps/place/Kroger/@29.5014072,-95.0428344,15.29z/data=!4m5!3m4!1s0x863f7d4ac5573c61:0xc0c72f946550c2be!8m2!3d29.5074972!4d-95.0413379',\n",
    "    'HEB_East':'https://www.google.com/maps/place/H-E-B+Curbside+Pickup+%26+Grocery+Delivery/@29.5005018,-95.0460491,14.71z/data=!4m5!3m4!1s0x0:0xabf3f88379ac5d65!8m2!3d29.5056904!4d-95.0386906',\n",
    "    'Randals':'https://www.google.com/maps/place/Randalls/@29.5112836,-95.0731067,14.13z/data=!4m5!3m4!1s0x0:0xdd0c14982e2ee286!8m2!3d29.5386227!4d-95.0630987',\n",
    "    'Mr_Sombrero_West':'https://www.google.com/maps/place/Mr.+Sombrero+Mexican+Restaurant+%232-+WEST+LEAGUE+CITY/@29.4883517,-95.1582326,20.25z/data=!3m1!5s0x864084bbd9e5d177:0xde07e2ab88dcc72a!4m5!3m4!1s0x864084bbc695f5d3:0x5d34d7e12344c050!8m2!3d29.488427!4d-95.1576807',\n",
    "    'La_Brisa': 'https://www.google.com/maps/place/La+Brisa+Mexican+Grill/@29.5022902,-95.1128431,17.04z/data=!4m5!3m4!1s0x0:0x8a1656a88f741b2f!8m2!3d29.5067881!4d-95.1139735',\n",
    "    'Walter_Hall_Park':'https://www.google.com/maps/place/Walter+Hall+Park/@29.5122023,-95.1023712,17.04z/data=!4m5!3m4!1s0x86409cd60e5f95db:0x2ceff9e27f38c167!8m2!3d29.5137716!4d-95.1023233',\n",
    "    'Nature_Center_270': 'https://www.google.com/maps/place/Dr.+Ned+and+Fay+Dudney+Clear+Creek+Nature+Center/@29.5294309,-95.0900541,17.04z/data=!4m5!3m4!1s0x0:0xf2c83bb9db1a6e5b!8m2!3d29.5292272!4d-95.0886199',\n",
    "    'Hometown_Heros_Park': 'https://www.google.com/maps/place/Hometown+Heroes+Park/@29.4945221,-95.0719769,16.46z/data=!4m5!3m4!1s0x864082bb78a9bced:0x95ccc715793a4847!8m2!3d29.4918725!4d-95.0706437',\n",
    "    'Sportsplex': 'https://www.google.com/maps/place/Chester+L+Davis+Sportsplex/@29.4712416,-95.108508,14.71z/data=!4m5!3m4!1s0x864082d8b2d0c6d3:0x373c7a1eddbbc724!8m2!3d29.4906234!4d-95.1009232',\n",
    "    'South_Shore_Fitness': 'https://www.google.com/maps/place/South+Shore+Fitness+Center/@29.5299945,-95.0575959,15z/data=!4m5!3m4!1s0x86409d7d1e49f2d7:0xf181b4cd5116870f!8m2!3d29.5433621!4d-95.0623637',\n",
    "    'Chick-fil-A_646':'https://www.google.com/maps/place/Chick-fil-A/@29.4709879,-95.0892905,15.87z/data=!4m5!3m4!1s0x864082f17df4fe27:0x58cc032e6ed6be42!8m2!3d29.4683644!4d-95.0861013',\n",
    "    }"
   ]
  },
  {
   "cell_type": "code",
   "execution_count": 4,
   "id": "obvious-watson",
   "metadata": {},
   "outputs": [
    {
     "name": "stdout",
     "output_type": "stream",
     "text": [
      "Target\n",
      "Walmart\n",
      "HEB\n",
      "Best_Buy\n",
      "Cabelas\n",
      "Kroger_West\n",
      "Jumping_World\n",
      "LA_Fitness\n",
      "Kroger_East\n",
      "HEB_East\n",
      "Randals\n",
      "Mr_Sombrero_West\n",
      "La_Brisa\n"
     ]
    },
    {
     "ename": "AttributeError",
     "evalue": "Can only use .str accessor with string values!",
     "output_type": "error",
     "traceback": [
      "\u001b[1;31m---------------------------------------------------------------------------\u001b[0m",
      "\u001b[1;31mAttributeError\u001b[0m                            Traceback (most recent call last)",
      "\u001b[1;32m<ipython-input-4-ade68d2eaffd>\u001b[0m in \u001b[0;36m<module>\u001b[1;34m\u001b[0m\n\u001b[0;32m     21\u001b[0m     \u001b[0mvars\u001b[0m\u001b[1;33m(\u001b[0m\u001b[1;33m)\u001b[0m\u001b[1;33m[\u001b[0m\u001b[0mkey\u001b[0m\u001b[1;33m]\u001b[0m\u001b[1;33m.\u001b[0m\u001b[0mset_index\u001b[0m\u001b[1;33m(\u001b[0m\u001b[1;34m'Index'\u001b[0m\u001b[1;33m,\u001b[0m\u001b[0minplace\u001b[0m\u001b[1;33m=\u001b[0m\u001b[1;32mTrue\u001b[0m\u001b[1;33m)\u001b[0m\u001b[1;33m\u001b[0m\u001b[1;33m\u001b[0m\u001b[0m\n\u001b[0;32m     22\u001b[0m     \u001b[1;32mfor\u001b[0m \u001b[0mcolumn\u001b[0m \u001b[1;32min\u001b[0m \u001b[0mvars\u001b[0m\u001b[1;33m(\u001b[0m\u001b[1;33m)\u001b[0m\u001b[1;33m[\u001b[0m\u001b[0mkey\u001b[0m\u001b[1;33m]\u001b[0m\u001b[1;33m:\u001b[0m\u001b[1;33m\u001b[0m\u001b[1;33m\u001b[0m\u001b[0m\n\u001b[1;32m---> 23\u001b[1;33m         \u001b[0mvars\u001b[0m\u001b[1;33m(\u001b[0m\u001b[1;33m)\u001b[0m\u001b[1;33m[\u001b[0m\u001b[0mkey\u001b[0m\u001b[1;33m]\u001b[0m\u001b[1;33m[\u001b[0m\u001b[0mcolumn\u001b[0m\u001b[1;33m]\u001b[0m\u001b[1;33m=\u001b[0m \u001b[0mvars\u001b[0m\u001b[1;33m(\u001b[0m\u001b[1;33m)\u001b[0m\u001b[1;33m[\u001b[0m\u001b[0mkey\u001b[0m\u001b[1;33m]\u001b[0m\u001b[1;33m[\u001b[0m\u001b[0mcolumn\u001b[0m\u001b[1;33m]\u001b[0m\u001b[1;33m.\u001b[0m\u001b[0mstr\u001b[0m\u001b[1;33m.\u001b[0m\u001b[0mextract\u001b[0m\u001b[1;33m(\u001b[0m\u001b[1;34m'(\\d+)'\u001b[0m\u001b[1;33m)\u001b[0m\u001b[1;33m\u001b[0m\u001b[1;33m\u001b[0m\u001b[0m\n\u001b[0m\u001b[0;32m     24\u001b[0m     \u001b[0mprint\u001b[0m\u001b[1;33m(\u001b[0m\u001b[0mkey\u001b[0m\u001b[1;33m)\u001b[0m\u001b[1;33m\u001b[0m\u001b[1;33m\u001b[0m\u001b[0m\n\u001b[0;32m     25\u001b[0m \u001b[1;33m\u001b[0m\u001b[0m\n",
      "\u001b[1;32mC:\\ProgramData\\Anaconda3\\envs\\geo\\lib\\site-packages\\pandas\\core\\generic.py\u001b[0m in \u001b[0;36m__getattr__\u001b[1;34m(self, name)\u001b[0m\n\u001b[0;32m   5456\u001b[0m             \u001b[1;32mor\u001b[0m \u001b[0mname\u001b[0m \u001b[1;32min\u001b[0m \u001b[0mself\u001b[0m\u001b[1;33m.\u001b[0m\u001b[0m_accessors\u001b[0m\u001b[1;33m\u001b[0m\u001b[1;33m\u001b[0m\u001b[0m\n\u001b[0;32m   5457\u001b[0m         ):\n\u001b[1;32m-> 5458\u001b[1;33m             \u001b[1;32mreturn\u001b[0m \u001b[0mobject\u001b[0m\u001b[1;33m.\u001b[0m\u001b[0m__getattribute__\u001b[0m\u001b[1;33m(\u001b[0m\u001b[0mself\u001b[0m\u001b[1;33m,\u001b[0m \u001b[0mname\u001b[0m\u001b[1;33m)\u001b[0m\u001b[1;33m\u001b[0m\u001b[1;33m\u001b[0m\u001b[0m\n\u001b[0m\u001b[0;32m   5459\u001b[0m         \u001b[1;32melse\u001b[0m\u001b[1;33m:\u001b[0m\u001b[1;33m\u001b[0m\u001b[1;33m\u001b[0m\u001b[0m\n\u001b[0;32m   5460\u001b[0m             \u001b[1;32mif\u001b[0m \u001b[0mself\u001b[0m\u001b[1;33m.\u001b[0m\u001b[0m_info_axis\u001b[0m\u001b[1;33m.\u001b[0m\u001b[0m_can_hold_identifiers_and_holds_name\u001b[0m\u001b[1;33m(\u001b[0m\u001b[0mname\u001b[0m\u001b[1;33m)\u001b[0m\u001b[1;33m:\u001b[0m\u001b[1;33m\u001b[0m\u001b[1;33m\u001b[0m\u001b[0m\n",
      "\u001b[1;32mC:\\ProgramData\\Anaconda3\\envs\\geo\\lib\\site-packages\\pandas\\core\\accessor.py\u001b[0m in \u001b[0;36m__get__\u001b[1;34m(self, obj, cls)\u001b[0m\n\u001b[0;32m    178\u001b[0m             \u001b[1;31m# we're accessing the attribute of the class, i.e., Dataset.geo\u001b[0m\u001b[1;33m\u001b[0m\u001b[1;33m\u001b[0m\u001b[1;33m\u001b[0m\u001b[0m\n\u001b[0;32m    179\u001b[0m             \u001b[1;32mreturn\u001b[0m \u001b[0mself\u001b[0m\u001b[1;33m.\u001b[0m\u001b[0m_accessor\u001b[0m\u001b[1;33m\u001b[0m\u001b[1;33m\u001b[0m\u001b[0m\n\u001b[1;32m--> 180\u001b[1;33m         \u001b[0maccessor_obj\u001b[0m \u001b[1;33m=\u001b[0m \u001b[0mself\u001b[0m\u001b[1;33m.\u001b[0m\u001b[0m_accessor\u001b[0m\u001b[1;33m(\u001b[0m\u001b[0mobj\u001b[0m\u001b[1;33m)\u001b[0m\u001b[1;33m\u001b[0m\u001b[1;33m\u001b[0m\u001b[0m\n\u001b[0m\u001b[0;32m    181\u001b[0m         \u001b[1;31m# Replace the property with the accessor object. Inspired by:\u001b[0m\u001b[1;33m\u001b[0m\u001b[1;33m\u001b[0m\u001b[1;33m\u001b[0m\u001b[0m\n\u001b[0;32m    182\u001b[0m         \u001b[1;31m# https://www.pydanny.com/cached-property.html\u001b[0m\u001b[1;33m\u001b[0m\u001b[1;33m\u001b[0m\u001b[1;33m\u001b[0m\u001b[0m\n",
      "\u001b[1;32mC:\\ProgramData\\Anaconda3\\envs\\geo\\lib\\site-packages\\pandas\\core\\strings\\accessor.py\u001b[0m in \u001b[0;36m__init__\u001b[1;34m(self, data)\u001b[0m\n\u001b[0;32m    152\u001b[0m         \u001b[1;32mfrom\u001b[0m \u001b[0mpandas\u001b[0m\u001b[1;33m.\u001b[0m\u001b[0mcore\u001b[0m\u001b[1;33m.\u001b[0m\u001b[0marrays\u001b[0m\u001b[1;33m.\u001b[0m\u001b[0mstring_\u001b[0m \u001b[1;32mimport\u001b[0m \u001b[0mStringDtype\u001b[0m\u001b[1;33m\u001b[0m\u001b[1;33m\u001b[0m\u001b[0m\n\u001b[0;32m    153\u001b[0m \u001b[1;33m\u001b[0m\u001b[0m\n\u001b[1;32m--> 154\u001b[1;33m         \u001b[0mself\u001b[0m\u001b[1;33m.\u001b[0m\u001b[0m_inferred_dtype\u001b[0m \u001b[1;33m=\u001b[0m \u001b[0mself\u001b[0m\u001b[1;33m.\u001b[0m\u001b[0m_validate\u001b[0m\u001b[1;33m(\u001b[0m\u001b[0mdata\u001b[0m\u001b[1;33m)\u001b[0m\u001b[1;33m\u001b[0m\u001b[1;33m\u001b[0m\u001b[0m\n\u001b[0m\u001b[0;32m    155\u001b[0m         \u001b[0mself\u001b[0m\u001b[1;33m.\u001b[0m\u001b[0m_is_categorical\u001b[0m \u001b[1;33m=\u001b[0m \u001b[0mis_categorical_dtype\u001b[0m\u001b[1;33m(\u001b[0m\u001b[0mdata\u001b[0m\u001b[1;33m.\u001b[0m\u001b[0mdtype\u001b[0m\u001b[1;33m)\u001b[0m\u001b[1;33m\u001b[0m\u001b[1;33m\u001b[0m\u001b[0m\n\u001b[0;32m    156\u001b[0m         \u001b[0mself\u001b[0m\u001b[1;33m.\u001b[0m\u001b[0m_is_string\u001b[0m \u001b[1;33m=\u001b[0m \u001b[0misinstance\u001b[0m\u001b[1;33m(\u001b[0m\u001b[0mdata\u001b[0m\u001b[1;33m.\u001b[0m\u001b[0mdtype\u001b[0m\u001b[1;33m,\u001b[0m \u001b[0mStringDtype\u001b[0m\u001b[1;33m)\u001b[0m\u001b[1;33m\u001b[0m\u001b[1;33m\u001b[0m\u001b[0m\n",
      "\u001b[1;32mC:\\ProgramData\\Anaconda3\\envs\\geo\\lib\\site-packages\\pandas\\core\\strings\\accessor.py\u001b[0m in \u001b[0;36m_validate\u001b[1;34m(data)\u001b[0m\n\u001b[0;32m    215\u001b[0m \u001b[1;33m\u001b[0m\u001b[0m\n\u001b[0;32m    216\u001b[0m         \u001b[1;32mif\u001b[0m \u001b[0minferred_dtype\u001b[0m \u001b[1;32mnot\u001b[0m \u001b[1;32min\u001b[0m \u001b[0mallowed_types\u001b[0m\u001b[1;33m:\u001b[0m\u001b[1;33m\u001b[0m\u001b[1;33m\u001b[0m\u001b[0m\n\u001b[1;32m--> 217\u001b[1;33m             \u001b[1;32mraise\u001b[0m \u001b[0mAttributeError\u001b[0m\u001b[1;33m(\u001b[0m\u001b[1;34m\"Can only use .str accessor with string values!\"\u001b[0m\u001b[1;33m)\u001b[0m\u001b[1;33m\u001b[0m\u001b[1;33m\u001b[0m\u001b[0m\n\u001b[0m\u001b[0;32m    218\u001b[0m         \u001b[1;32mreturn\u001b[0m \u001b[0minferred_dtype\u001b[0m\u001b[1;33m\u001b[0m\u001b[1;33m\u001b[0m\u001b[0m\n\u001b[0;32m    219\u001b[0m \u001b[1;33m\u001b[0m\u001b[0m\n",
      "\u001b[1;31mAttributeError\u001b[0m: Can only use .str accessor with string values!"
     ]
    }
   ],
   "source": [
    "for key, value in space.items():\n",
    "    count=0\n",
    "    index = np.array([6,7,8,9,10,11,12,13,14,15,16,17,18,19,20,21,22,23,0,1,2,3,4,5])\n",
    "    dic = {0:\"Sunday\", 1:\"Monday\", 2:\"Tuesday\", 3:\"Wednesday\", 4:\"Thursday\", 5:\"Friday\", 6:\"Saturday\"}\n",
    "    l = {\"Sunday\":[], \"Monday\":[], \"Tuesday\":[], \"Wednesday\":[], \"Thursday\":[], \"Friday\":[], \"Saturday\":[]}\n",
    "    location_data = {\"Monday\":[], \"Tuesday\":[], \"Wednesday\":[], \"Thursday\":[], \"Friday\":[], \"Saturday\":[], \"Sunday\":[]}\n",
    "       \n",
    "    driver.get(value)\n",
    "    t.sleep(3)\n",
    "    _driver= driver.find_elements_by_class_name(\"section-popular-times-graph\")\n",
    "    \n",
    "    for i in _driver:\n",
    "        b = i.find_elements_by_class_name(\"section-popular-times-bar\") # It will be a list of HTML Section of each hour in a day.\n",
    "        for j in b:\n",
    "            x = j.get_attribute(\"aria-label\")\n",
    "            l[dic[count]].append(x)\n",
    "        count = count+1\n",
    "        \n",
    "    vars()[key]= pd.DataFrame(l)\n",
    "    vars()[key]['Index']=pd.Series(index)\n",
    "    vars()[key].set_index('Index',inplace=True)\n",
    "    for column in vars()[key]:\n",
    "        vars()[key][column]= vars()[key][column].str.extract('(\\d+)')\n",
    "    print(key)\n",
    "    \n",
    "    "
   ]
  },
  {
   "cell_type": "code",
   "execution_count": null,
   "id": "saved-treasurer",
   "metadata": {},
   "outputs": [],
   "source": [
    "Randals"
   ]
  },
  {
   "cell_type": "code",
   "execution_count": null,
   "id": "choice-cabinet",
   "metadata": {},
   "outputs": [],
   "source": []
  }
 ],
 "metadata": {
  "kernelspec": {
   "display_name": "Python [conda env:geo] *",
   "language": "python",
   "name": "conda-env-geo-py"
  },
  "language_info": {
   "codemirror_mode": {
    "name": "ipython",
    "version": 3
   },
   "file_extension": ".py",
   "mimetype": "text/x-python",
   "name": "python",
   "nbconvert_exporter": "python",
   "pygments_lexer": "ipython3",
   "version": "3.8.5"
  }
 },
 "nbformat": 4,
 "nbformat_minor": 5
}
