{
 "cells": [
  {
   "cell_type": "markdown",
   "metadata": {},
   "source": [
    "Sometimes data are grouped in a table (or matrix) like the one below:\n",
    "\n",
    "$$\n",
    "\\begin{bmatrix} \n",
    "8 & 0 \\\\\n",
    "6 & 3 \\\\\n",
    "\\end{bmatrix}$$\n",
    "\n",
    "Suppose that the numbers in the matrix represent a characteristic $x$. Each element of this matrix can then be represented as $x_{ij}$ ,where $i$ indicates the row and $j$ indicates the column. For example, $x_{21} = 6$, and $x_{12} = 0$. Suppose that I want to sum all elements in the matrix. Then I could sum all rows per column, or all columns per row, i.e\n",
    "\n",
    "$$\\sum_{j=1}^3\\sum_{i=1}^2x_{ij} = (x_{11}+x_{21}) + (x_{12}+x_{22})+(x_{13}+x_{23})$$\n",
    "\n",
    "https://www.tcd.ie/Economics/staff/thijssej/ec1030/summation.pdf"
   ]
  },
  {
   "cell_type": "code",
   "execution_count": 2,
   "metadata": {},
   "outputs": [],
   "source": [
    "import numpy as np\n",
    "import pandas as pd"
   ]
  },
  {
   "cell_type": "code",
   "execution_count": 3,
   "metadata": {},
   "outputs": [
    {
     "data": {
      "text/plain": [
       "array([[7, 3],\n",
       "       [8, 6]])"
      ]
     },
     "execution_count": 3,
     "metadata": {},
     "output_type": "execute_result"
    }
   ],
   "source": [
    "M = np.random.randint(10, size=(2,2))\n",
    "M"
   ]
  },
  {
   "cell_type": "code",
   "execution_count": 4,
   "metadata": {},
   "outputs": [
    {
     "data": {
      "text/plain": [
       "24"
      ]
     },
     "execution_count": 4,
     "metadata": {},
     "output_type": "execute_result"
    }
   ],
   "source": [
    "np.sum(M)"
   ]
  }
 ],
 "metadata": {
  "kernelspec": {
   "display_name": "Python 3",
   "language": "python",
   "name": "python3"
  },
  "language_info": {
   "codemirror_mode": {
    "name": "ipython",
    "version": 3
   },
   "file_extension": ".py",
   "mimetype": "text/x-python",
   "name": "python",
   "nbconvert_exporter": "python",
   "pygments_lexer": "ipython3",
   "version": "3.7.10"
  }
 },
 "nbformat": 4,
 "nbformat_minor": 2
}
